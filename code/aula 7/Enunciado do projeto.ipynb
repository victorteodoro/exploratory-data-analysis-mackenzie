{
  "nbformat": 4,
  "nbformat_minor": 0,
  "metadata": {
    "kernelspec": {
      "display_name": "Python 3",
      "language": "python",
      "name": "python3"
    },
    "language_info": {
      "codemirror_mode": {
        "name": "ipython",
        "version": 3
      },
      "file_extension": ".py",
      "mimetype": "text/x-python",
      "name": "python",
      "nbconvert_exporter": "python",
      "pygments_lexer": "ipython3",
      "version": "3.7.4"
    },
    "colab": {
      "provenance": [],
      "include_colab_link": true
    }
  },
  "cells": [
    {
      "cell_type": "markdown",
      "metadata": {
        "id": "view-in-github",
        "colab_type": "text"
      },
      "source": [
        "<a href=\"https://colab.research.google.com/github/victorteodoro/exploratory-data-analysis-mackenzie/blob/main/Enunciado%20do%20projeto.ipynb\" target=\"_parent\"><img src=\"https://colab.research.google.com/assets/colab-badge.svg\" alt=\"Open In Colab\"/></a>"
      ]
    },
    {
      "cell_type": "markdown",
      "metadata": {
        "id": "40b90843"
      },
      "source": [
        "<img src=\"http://meusite.mackenzie.br/rogerio/mackenzie_logo/UPM.2_horizontal_vermelho.jpg\"  width=300, align=\"right\">\n",
        "<br>\n",
        "<br>\n",
        "<br>\n",
        "<br>\n",
        "<br>\n",
        "\n",
        "# Projeto de Análise Exploratória de Dados\n",
        "---"
      ]
    },
    {
      "cell_type": "markdown",
      "metadata": {
        "id": "yG9sFK9khO_I"
      },
      "source": [
        "# Objetivo\n",
        "\n",
        "Fazer uma Análise Exploratória de Dados (Exploratory Data Analysis) envolvendo as bases de dados definidas. Trabalho obrigatoriamente em grupo de 2-4 alunos.\n",
        "\n",
        "<br>\n",
        "\n",
        "# Descrição do Projeto\n",
        "\n",
        "O trabalho deve ser original e desenvolvido em R ou Python notebook com uma Análise e Exploração dos Dados, de um conjunto de dados definido. O R ou Python notebook deve ser 100% executável (empregue os dados a partir dos links originais).\n",
        "\n",
        "A análise de incluir estatísticas descritivas, seleções, transformações, agrupamentos de dados e exploração gráfica dos dados respondendo ao menos 6 perguntas relevantes no contexto dos dados. Deve ser entregue também uma apresentação em **vídeo (até 10min)** dos resultados. Para a apresentação você pode querer empregar um datafólio, mas este é uma entrega opcional.\n",
        "\n",
        "Garanta que seu projeto tenha ao menos:\n",
        "\n",
        "> 1. Uma análise de distribuição de dados\n",
        "\n",
        "> 2. Transformações dos dados envolvendo junção de dados, transformações de atributos e/ou normalização\n",
        "\n",
        "> 3. Uma análise tabelas de contingência ou de agregações\n",
        "\n",
        "> 4. Uma análise de correlação\n",
        "\n",
        "> 5. Uma análise de informação mútua, emprego de atributos derivados ou teste de interdependência\n",
        "\n",
        "[Modelo Python Notebook]((https://colab.research.google.com/github/Rogerio-mack/Analise_Exploratoria_de_Dados/blob/main/AED_Projeto.ipynb) (*inclui os critérios de avaliação*)\n",
        "\n",
        "[Modelo Datafólio](http://meusite.mackenzie.br/rogerio/TIC/Datafolio_Template.pptx) (*opcional, ver atividade 'pratique' no Moodle*)\n",
        "\n",
        "<br>\n",
        "<br>\n",
        "<br>\n",
        "\n",
        "\n",
        "# Bases de Dados\n",
        "\n",
        "#### Grupo 1\n",
        "\n",
        "> * [European energy](https://github.com/rfordatascience/tidytuesday/tree/master/data/2020/2020-08-04)\n",
        "\n",
        "> * [Top 100 Billboard](\n",
        "https://github.com/rfordatascience/tidytuesday/blob/master/data/2021/2021-09-14/readme.md)\n",
        "\n",
        "> * [Deforestation](\n",
        "https://github.com/rfordatascience/tidytuesday/blob/master/data/2021/2021-04-06/readme.md)\n",
        "\n",
        "\n",
        "#### Grupo 2\n",
        "\n",
        "> * [Beer Production](https://github.com/rfordatascience/tidytuesday/blob/master/data/2020/2020-03-31/readme.md)\n",
        "\n",
        "> * [Ask a Manager Survey](\n",
        "https://github.com/rfordatascience/tidytuesday/tree/master/data/2021/2021-05-18)\n",
        "\n",
        "> * [Plastic Pollution](\n",
        "https://github.com/rfordatascience/tidytuesday/tree/master/data/2021/2021-01-26)\n",
        "\n",
        "\n",
        "#### Grupo 3\n",
        "\n",
        "> * [Global Crop Yields](https://github.com/rfordatascience/tidytuesday/blob/master/data/2020/2020-09-01/readme.md)\n",
        "\n",
        "> * [The Olympics](\n",
        "https://github.com/rfordatascience/tidytuesday/tree/master/data/2021/2021-07-27)\n",
        "\n",
        "> * [Kenya Census](\n",
        "https://github.com/rfordatascience/tidytuesday/tree/master/data/2021/2021-01-19)\n",
        "\n",
        "\n",
        "#### Grupo 4\n",
        "\n",
        "> * [United States Department of Agriculture](https://github.com/rfordatascience/tidytuesday/tree/master/data/2019/2019-01-29)\n",
        "\n",
        "> * [Women in the Workforce](https://github.com/rfordatascience/tidytuesday/tree/master/data/2019/2019-03-05)\n",
        "\n",
        "> * [Wealth and income over time](https://github.com/rfordatascience/tidytuesday/blob/master/data/2021/2021-02-09/readme.md)\n",
        "\n",
        "\n",
        "#### Grupo 5\n",
        "\n",
        "\n",
        "> * [CEO Departures](\n",
        "https://github.com/rfordatascience/tidytuesday/blob/master/data/2021/2021-04-27/readme.md)\n",
        "\n",
        "> * [Employed Status](\n",
        "https://github.com/rfordatascience/tidytuesday/tree/master/data/2021/2021-02-23)\n",
        "\n",
        "> * [Formula 1 Races](\n",
        "https://github.com/rfordatascience/tidytuesday/blob/master/data/2021/2021-09-07/readme.md)\n",
        "\n"
      ]
    }
  ]
}